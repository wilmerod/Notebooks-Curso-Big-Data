{
  "nbformat": 4,
  "nbformat_minor": 0,
  "metadata": {
    "colab": {
      "name": "2_a_ML_Ejemplo_Clusterizacion_alumnos .ipynb",
      "provenance": [],
      "include_colab_link": true
    },
    "kernelspec": {
      "name": "python3",
      "display_name": "Python 3"
    },
    "language_info": {
      "name": "python"
    }
  },
  "cells": [
    {
      "cell_type": "markdown",
      "metadata": {
        "id": "view-in-github",
        "colab_type": "text"
      },
      "source": [
        "<a href=\"https://colab.research.google.com/github/wilmerod/Notebooks-Curso-Big-Data/blob/main/2_a_ML_Ejemplo_Clusterizacion_alumnos_.ipynb\" target=\"_parent\"><img src=\"https://colab.research.google.com/assets/colab-badge.svg\" alt=\"Open In Colab\"/></a>"
      ]
    },
    {
      "cell_type": "code",
      "metadata": {
        "id": "KvDhtISU4K6Q"
      },
      "source": [
        "import numpy as np\n",
        "import pandas as pd\n",
        "import matplotlib.pyplot as plt\n",
        "from sklearn.cluster import KMeans"
      ],
      "execution_count": 3,
      "outputs": []
    },
    {
      "cell_type": "markdown",
      "metadata": {
        "id": "iNu_eohhc5ft"
      },
      "source": [
        "Creamos un grupo de alumnos"
      ]
    },
    {
      "cell_type": "code",
      "metadata": {
        "id": "S9NTimoQHIES"
      },
      "source": [
        "n_alumnos = 100"
      ],
      "execution_count": 1,
      "outputs": []
    },
    {
      "cell_type": "markdown",
      "metadata": {
        "id": "o2SN3u-Nc8zv"
      },
      "source": [
        "Creamos un serie de calificaciones de Lengua"
      ]
    },
    {
      "cell_type": "code",
      "metadata": {
        "colab": {
          "base_uri": "https://localhost:8080/"
        },
        "id": "tl6NhqFi4a4p",
        "outputId": "b6d6ec2a-403c-4599-a1f4-1980e0319746"
      },
      "source": [
        "Lengua=5+5*(np.random.rand(n_alumnos))\n",
        "Lengua"
      ],
      "execution_count": 4,
      "outputs": [
        {
          "output_type": "execute_result",
          "data": {
            "text/plain": [
              "array([6.18550744, 5.55506062, 7.79660782, 6.07572644, 6.7238816 ,\n",
              "       5.76258408, 5.69827714, 7.93000136, 5.77372178, 8.92282403,\n",
              "       8.01268349, 9.32864029, 9.29076912, 7.19128481, 8.99470745,\n",
              "       7.63176959, 9.71153598, 6.84055365, 5.10693426, 5.96417899,\n",
              "       9.0927286 , 7.00621233, 5.60586351, 5.31717288, 6.07986987,\n",
              "       5.25819188, 6.29235466, 5.44803377, 6.96762345, 9.84900562,\n",
              "       9.23499398, 9.34045349, 5.0186084 , 7.2156041 , 7.02191946,\n",
              "       5.87110128, 6.75868792, 6.63036663, 7.31233712, 5.11065658,\n",
              "       8.55350834, 9.80556436, 9.52760809, 5.51213086, 8.62667723,\n",
              "       5.60566722, 8.32139068, 8.54053686, 5.17670851, 5.45775182,\n",
              "       5.56818759, 6.07823209, 9.37111524, 7.80507697, 5.76395861,\n",
              "       9.30437301, 6.40815837, 6.84119707, 7.16999115, 6.90874546,\n",
              "       7.37047482, 5.42072936, 9.27671431, 8.54095037, 6.03224569,\n",
              "       7.06187679, 8.47954834, 9.17750674, 9.54053833, 9.82633533,\n",
              "       9.11139519, 6.3605454 , 9.48371183, 5.22770372, 6.05262285,\n",
              "       5.53581685, 8.34043332, 8.13948822, 5.08840929, 6.11826826,\n",
              "       5.910067  , 9.17843476, 5.40283332, 9.90166061, 8.78958954,\n",
              "       7.76795959, 5.71815579, 7.65098186, 9.05898971, 9.86491662,\n",
              "       9.6598284 , 8.11153598, 8.42592279, 9.84028737, 5.32845131,\n",
              "       7.98037302, 9.89364222, 5.63389099, 7.05653643, 5.24493092])"
            ]
          },
          "metadata": {},
          "execution_count": 4
        }
      ]
    },
    {
      "cell_type": "markdown",
      "metadata": {
        "id": "ecFKJKJxdGRK"
      },
      "source": [
        "Creamos un serie de calificaciones de Matemáticas"
      ]
    },
    {
      "cell_type": "code",
      "metadata": {
        "colab": {
          "base_uri": "https://localhost:8080/"
        },
        "id": "Xa_RlqIe4h6o",
        "outputId": "ab12cfe1-0386-4fa1-f13d-2262ad67e210"
      },
      "source": [
        "Matematicas=5+5*(np.random.rand(n_alumnos))\n",
        "Matematicas"
      ],
      "execution_count": 5,
      "outputs": [
        {
          "output_type": "execute_result",
          "data": {
            "text/plain": [
              "array([6.35513869, 9.4010525 , 6.07498022, 5.33951025, 9.1788687 ,\n",
              "       7.5401384 , 7.15920127, 9.04161679, 5.36885866, 5.71072323,\n",
              "       8.67669599, 7.97755956, 6.53903003, 8.02260641, 9.76433141,\n",
              "       7.06508116, 5.64696222, 7.54859795, 8.80655779, 8.37575148,\n",
              "       7.68014032, 6.26803631, 7.07499945, 9.6314968 , 8.40825537,\n",
              "       9.71370754, 6.89157594, 9.63274432, 9.82211673, 9.76164189,\n",
              "       8.86709166, 7.147337  , 8.0529269 , 7.49875344, 5.4497069 ,\n",
              "       7.80003162, 7.20059846, 9.9718259 , 5.18376789, 8.41557456,\n",
              "       6.13700254, 9.50801941, 7.12191766, 9.38910426, 9.90931543,\n",
              "       7.40369465, 8.21799614, 7.91650969, 8.97321946, 7.32904644,\n",
              "       5.49421446, 5.49673282, 5.78274449, 7.17976361, 8.99283998,\n",
              "       6.22808642, 5.08521435, 6.74537754, 9.13206845, 5.10515808,\n",
              "       9.63599134, 8.22431351, 8.17878706, 7.65512188, 7.14287722,\n",
              "       5.1559016 , 6.696801  , 8.86189772, 5.11841566, 6.51860644,\n",
              "       7.0085119 , 7.55914643, 6.13547788, 8.64875547, 7.95402068,\n",
              "       6.42841324, 5.35405645, 6.4145504 , 7.54967598, 7.54686732,\n",
              "       6.59827599, 7.98568028, 5.50649745, 9.73273212, 6.53547171,\n",
              "       5.32781917, 8.42715922, 8.93572419, 9.18106736, 8.35992215,\n",
              "       6.62929179, 5.06452932, 7.99956797, 6.93301556, 8.82447554,\n",
              "       8.57176654, 6.50608788, 7.40856582, 5.15326067, 7.2743359 ])"
            ]
          },
          "metadata": {},
          "execution_count": 5
        }
      ]
    },
    {
      "cell_type": "markdown",
      "metadata": {
        "id": "7NGyS9dDdJMX"
      },
      "source": [
        "Visualizamos los datos de las calificaciones del grupo de alumnos"
      ]
    },
    {
      "cell_type": "code",
      "metadata": {
        "colab": {
          "base_uri": "https://localhost:8080/",
          "height": 459
        },
        "id": "dZHiLWRi49zq",
        "outputId": "9b4057ff-593a-4b75-8159-12eb0b49550b"
      },
      "source": [
        "plt.figure(figsize=(7,7))\n",
        "plt.scatter(Lengua, Matematicas)\n",
        "plt.grid()\n",
        "plt.xlabel('Lengua')\n",
        "plt.ylabel('Matemáticas')"
      ],
      "execution_count": 6,
      "outputs": [
        {
          "output_type": "execute_result",
          "data": {
            "text/plain": [
              "Text(0, 0.5, 'Matemáticas')"
            ]
          },
          "metadata": {},
          "execution_count": 6
        },
        {
          "output_type": "display_data",
          "data": {
            "image/png": "[encoded data removed]",
            "text/plain": [
              "<Figure size 504x504 with 1 Axes>"
            ]
          },
          "metadata": {
            "needs_background": "light"
          }
        }
      ]
    },
    {
      "cell_type": "markdown",
      "metadata": {
        "id": "aErHQzPRdQrz"
      },
      "source": [
        "Creamos un DataFrame con los datos de los alumnos y sus calificaciones en Lengua y Matemáticas"
      ]
    },
    {
      "cell_type": "code",
      "metadata": {
        "colab": {
          "base_uri": "https://localhost:8080/"
        },
        "id": "ewWzDI3L7VOv",
        "outputId": "4d04957b-0cef-48ec-df08-f16f21313da1"
      },
      "source": [
        "np.arange(1,n_alumnos+1)"
      ],
      "execution_count": 7,
      "outputs": [
        {
          "output_type": "execute_result",
          "data": {
            "text/plain": [
              "array([  1,   2,   3,   4,   5,   6,   7,   8,   9,  10,  11,  12,  13,\n",
              "        14,  15,  16,  17,  18,  19,  20,  21,  22,  23,  24,  25,  26,\n",
              "        27,  28,  29,  30,  31,  32,  33,  34,  35,  36,  37,  38,  39,\n",
              "        40,  41,  42,  43,  44,  45,  46,  47,  48,  49,  50,  51,  52,\n",
              "        53,  54,  55,  56,  57,  58,  59,  60,  61,  62,  63,  64,  65,\n",
              "        66,  67,  68,  69,  70,  71,  72,  73,  74,  75,  76,  77,  78,\n",
              "        79,  80,  81,  82,  83,  84,  85,  86,  87,  88,  89,  90,  91,\n",
              "        92,  93,  94,  95,  96,  97,  98,  99, 100])"
            ]
          },
          "metadata": {},
          "execution_count": 7
        }
      ]
    },
    {
      "cell_type": "code",
      "metadata": {
        "id": "pvzXopsw8Oph"
      },
      "source": [
        "X=pd.DataFrame(index=np.arange(1,n_alumnos+1))"
      ],
      "execution_count": 8,
      "outputs": []
    },
    {
      "cell_type": "code",
      "metadata": {
        "id": "IzZ9ZKOG8U03"
      },
      "source": [
        "X['Lengua']=Lengua"
      ],
      "execution_count": 9,
      "outputs": []
    },
    {
      "cell_type": "code",
      "metadata": {
        "id": "s0Vsowpw8fol"
      },
      "source": [
        "X['Matemáticas']=Matematicas"
      ],
      "execution_count": 10,
      "outputs": []
    },
    {
      "cell_type": "code",
      "metadata": {
        "colab": {
          "base_uri": "https://localhost:8080/",
          "height": 204
        },
        "id": "dsxqwVe_85W6",
        "outputId": "29635bce-b36c-4669-9da4-6b8d48890f70"
      },
      "source": [
        "X.head()"
      ],
      "execution_count": 11,
      "outputs": [
        {
          "output_type": "execute_result",
          "data": {
            "text/html": [
              "<div>\n",
              "<style scoped>\n",
              "    .dataframe tbody tr th:only-of-type {\n",
              "        vertical-align: middle;\n",
              "    }\n",
              "\n",
              "    .dataframe tbody tr th {\n",
              "        vertical-align: top;\n",
              "    }\n",
              "\n",
              "    .dataframe thead th {\n",
              "        text-align: right;\n",
              "    }\n",
              "</style>\n",
              "<table border=\"1\" class=\"dataframe\">\n",
              "  <thead>\n",
              "    <tr style=\"text-align: right;\">\n",
              "      <th></th>\n",
              "      <th>Lengua</th>\n",
              "      <th>Matemáticas</th>\n",
              "    </tr>\n",
              "  </thead>\n",
              "  <tbody>\n",
              "    <tr>\n",
              "      <th>1</th>\n",
              "      <td>6.185507</td>\n",
              "      <td>6.355139</td>\n",
              "    </tr>\n",
              "    <tr>\n",
              "      <th>2</th>\n",
              "      <td>5.555061</td>\n",
              "      <td>9.401053</td>\n",
              "    </tr>\n",
              "    <tr>\n",
              "      <th>3</th>\n",
              "      <td>7.796608</td>\n",
              "      <td>6.074980</td>\n",
              "    </tr>\n",
              "    <tr>\n",
              "      <th>4</th>\n",
              "      <td>6.075726</td>\n",
              "      <td>5.339510</td>\n",
              "    </tr>\n",
              "    <tr>\n",
              "      <th>5</th>\n",
              "      <td>6.723882</td>\n",
              "      <td>9.178869</td>\n",
              "    </tr>\n",
              "  </tbody>\n",
              "</table>\n",
              "</div>"
            ],
            "text/plain": [
              "     Lengua  Matemáticas\n",
              "1  6.185507     6.355139\n",
              "2  5.555061     9.401053\n",
              "3  7.796608     6.074980\n",
              "4  6.075726     5.339510\n",
              "5  6.723882     9.178869"
            ]
          },
          "metadata": {},
          "execution_count": 11
        }
      ]
    },
    {
      "cell_type": "markdown",
      "metadata": {
        "id": "DvjXxZqrdawl"
      },
      "source": [
        "Podemos exportar la tabla a excel"
      ]
    },
    {
      "cell_type": "code",
      "metadata": {
        "id": "1PeG8E7IJmix"
      },
      "source": [
        "X.to_excel('sample_data/notas_alumnos.xlsx')"
      ],
      "execution_count": 12,
      "outputs": []
    },
    {
      "cell_type": "markdown",
      "metadata": {
        "id": "K-BP28qFdeQZ"
      },
      "source": [
        "También podríamos importar un fichero excel como origen de los datos de los alumnos"
      ]
    },
    {
      "cell_type": "code",
      "metadata": {
        "id": "rq28ERxUKQTx"
      },
      "source": [
        "X=pd.read_excel('sample_data/notas_alumnos.xlsx', index_col=0)"
      ],
      "execution_count": 13,
      "outputs": []
    },
    {
      "cell_type": "code",
      "metadata": {
        "colab": {
          "base_uri": "https://localhost:8080/",
          "height": 204
        },
        "id": "kSDZ2QHmKWad",
        "outputId": "49340586-34c1-4add-c8d2-f41aa9801fe8"
      },
      "source": [
        "X.head()"
      ],
      "execution_count": 14,
      "outputs": [
        {
          "output_type": "execute_result",
          "data": {
            "text/html": [
              "<div>\n",
              "<style scoped>\n",
              "    .dataframe tbody tr th:only-of-type {\n",
              "        vertical-align: middle;\n",
              "    }\n",
              "\n",
              "    .dataframe tbody tr th {\n",
              "        vertical-align: top;\n",
              "    }\n",
              "\n",
              "    .dataframe thead th {\n",
              "        text-align: right;\n",
              "    }\n",
              "</style>\n",
              "<table border=\"1\" class=\"dataframe\">\n",
              "  <thead>\n",
              "    <tr style=\"text-align: right;\">\n",
              "      <th></th>\n",
              "      <th>Lengua</th>\n",
              "      <th>Matemáticas</th>\n",
              "    </tr>\n",
              "  </thead>\n",
              "  <tbody>\n",
              "    <tr>\n",
              "      <th>1</th>\n",
              "      <td>6.185507</td>\n",
              "      <td>6.355139</td>\n",
              "    </tr>\n",
              "    <tr>\n",
              "      <th>2</th>\n",
              "      <td>5.555061</td>\n",
              "      <td>9.401053</td>\n",
              "    </tr>\n",
              "    <tr>\n",
              "      <th>3</th>\n",
              "      <td>7.796608</td>\n",
              "      <td>6.074980</td>\n",
              "    </tr>\n",
              "    <tr>\n",
              "      <th>4</th>\n",
              "      <td>6.075726</td>\n",
              "      <td>5.339510</td>\n",
              "    </tr>\n",
              "    <tr>\n",
              "      <th>5</th>\n",
              "      <td>6.723882</td>\n",
              "      <td>9.178869</td>\n",
              "    </tr>\n",
              "  </tbody>\n",
              "</table>\n",
              "</div>"
            ],
            "text/plain": [
              "     Lengua  Matemáticas\n",
              "1  6.185507     6.355139\n",
              "2  5.555061     9.401053\n",
              "3  7.796608     6.074980\n",
              "4  6.075726     5.339510\n",
              "5  6.723882     9.178869"
            ]
          },
          "metadata": {},
          "execution_count": 14
        }
      ]
    },
    {
      "cell_type": "markdown",
      "metadata": {
        "id": "s4YOogE5dnrN"
      },
      "source": [
        "Visualizamos los datos de la tabla de notas de los alumnos"
      ]
    },
    {
      "cell_type": "code",
      "metadata": {
        "colab": {
          "base_uri": "https://localhost:8080/",
          "height": 442
        },
        "id": "bWAAoJIp6h9G",
        "outputId": "629fbe73-0ac2-4f8b-9427-7df7337e2c5a"
      },
      "source": [
        "plt.figure(figsize=(7,7))\n",
        "plt.scatter(X['Lengua'],X['Matemáticas'], s=100)\n",
        "plt.grid()\n",
        "plt.xlabel('Lengua')\n",
        "plt.ylabel('Matemáticas')\n",
        "for i in range(len(X)):\n",
        "  plt.text(X['Lengua'].iloc[i], X['Matemáticas'].iloc[i], s=str(i+1), ha='left', va='bottom')"
      ],
      "execution_count": 16,
      "outputs": [
        {
          "output_type": "display_data",
          "data": {
            "image/png": "[encoded data removed]",
            "text/plain": [
              "<Figure size 504x504 with 1 Axes>"
            ]
          },
          "metadata": {
            "needs_background": "light"
          }
        }
      ]
    },
    {
      "cell_type": "markdown",
      "metadata": {
        "id": "JwNisyzadvAY"
      },
      "source": [
        "Deseamos agrupar los alumnos en función de sus calificaciones en estas materias "
      ]
    },
    {
      "cell_type": "code",
      "metadata": {
        "id": "_A3639UD5V5m"
      },
      "source": [
        "n_grupos = 3\n",
        "\n",
        "kmeans = KMeans(n_clusters=n_grupos, random_state=42)  #Crea el modelo\n",
        "kmeans.fit(X)  #Entrena el modelo con los datos"
      ],
      "execution_count": null,
      "outputs": []
    },
    {
      "cell_type": "markdown",
      "metadata": {
        "id": "SPVl6YZleEZE"
      },
      "source": [
        "Creamos una copia de la tabla y le incorporamos la columna con la clasificación que he realizado el modelo"
      ]
    },
    {
      "cell_type": "code",
      "metadata": {
        "id": "F4cQkis4-X-c"
      },
      "source": [
        "X_clasificado = X.copy()\n",
        "X_clasificado['Grupo'] = kmeans.labels_"
      ],
      "execution_count": 18,
      "outputs": []
    },
    {
      "cell_type": "code",
      "metadata": {
        "colab": {
          "base_uri": "https://localhost:8080/",
          "height": 204
        },
        "id": "Xv235z59-lbJ",
        "outputId": "aea66772-a080-42f2-ebb8-5ae229e936cc"
      },
      "source": [
        "X_clasificado.head()"
      ],
      "execution_count": 19,
      "outputs": [
        {
          "output_type": "execute_result",
          "data": {
            "text/html": [
              "<div>\n",
              "<style scoped>\n",
              "    .dataframe tbody tr th:only-of-type {\n",
              "        vertical-align: middle;\n",
              "    }\n",
              "\n",
              "    .dataframe tbody tr th {\n",
              "        vertical-align: top;\n",
              "    }\n",
              "\n",
              "    .dataframe thead th {\n",
              "        text-align: right;\n",
              "    }\n",
              "</style>\n",
              "<table border=\"1\" class=\"dataframe\">\n",
              "  <thead>\n",
              "    <tr style=\"text-align: right;\">\n",
              "      <th></th>\n",
              "      <th>Lengua</th>\n",
              "      <th>Matemáticas</th>\n",
              "      <th>Grupo</th>\n",
              "    </tr>\n",
              "  </thead>\n",
              "  <tbody>\n",
              "    <tr>\n",
              "      <th>1</th>\n",
              "      <td>6.185507</td>\n",
              "      <td>6.355139</td>\n",
              "      <td>1</td>\n",
              "    </tr>\n",
              "    <tr>\n",
              "      <th>2</th>\n",
              "      <td>5.555061</td>\n",
              "      <td>9.401053</td>\n",
              "      <td>0</td>\n",
              "    </tr>\n",
              "    <tr>\n",
              "      <th>3</th>\n",
              "      <td>7.796608</td>\n",
              "      <td>6.074980</td>\n",
              "      <td>1</td>\n",
              "    </tr>\n",
              "    <tr>\n",
              "      <th>4</th>\n",
              "      <td>6.075726</td>\n",
              "      <td>5.339510</td>\n",
              "      <td>1</td>\n",
              "    </tr>\n",
              "    <tr>\n",
              "      <th>5</th>\n",
              "      <td>6.723882</td>\n",
              "      <td>9.178869</td>\n",
              "      <td>0</td>\n",
              "    </tr>\n",
              "  </tbody>\n",
              "</table>\n",
              "</div>"
            ],
            "text/plain": [
              "     Lengua  Matemáticas  Grupo\n",
              "1  6.185507     6.355139      1\n",
              "2  5.555061     9.401053      0\n",
              "3  7.796608     6.074980      1\n",
              "4  6.075726     5.339510      1\n",
              "5  6.723882     9.178869      0"
            ]
          },
          "metadata": {},
          "execution_count": 19
        }
      ]
    },
    {
      "cell_type": "markdown",
      "metadata": {
        "id": "SWe1lR5jePB9"
      },
      "source": [
        "Hacemos recuento de alumnos por grupo de clusterización"
      ]
    },
    {
      "cell_type": "code",
      "metadata": {
        "colab": {
          "base_uri": "https://localhost:8080/"
        },
        "id": "Mg343niA-m0M",
        "outputId": "13c1b3ed-df48-4910-cb70-e22f1dfd0599"
      },
      "source": [
        "X_clasificado['Grupo'].value_counts().sort_index()"
      ],
      "execution_count": 20,
      "outputs": [
        {
          "output_type": "execute_result",
          "data": {
            "text/plain": [
              "0    39\n",
              "1    21\n",
              "2    40\n",
              "Name: Grupo, dtype: int64"
            ]
          },
          "metadata": {},
          "execution_count": 20
        }
      ]
    },
    {
      "cell_type": "markdown",
      "metadata": {
        "id": "ZPxmGU4peUor"
      },
      "source": [
        "Visualizamos el resultado de la clusterización de los alumnos"
      ]
    },
    {
      "cell_type": "code",
      "metadata": {
        "colab": {
          "base_uri": "https://localhost:8080/",
          "height": 476
        },
        "id": "S3TxpBV_-2qw",
        "outputId": "c068b431-7bff-4c66-e683-e732a0643541"
      },
      "source": [
        "plt.figure(figsize=(7,7))\n",
        "plt.scatter(X_clasificado['Lengua'],X_clasificado['Matemáticas'],c=X_clasificado['Grupo'], s=100)\n",
        "plt.grid()\n",
        "plt.xlabel('Lengua')\n",
        "plt.ylabel('Matemáticas')\n",
        "for i in range(len(X_clasificado)):\n",
        "  plt.text(X_clasificado['Lengua'].iloc[i], X_clasificado['Matemáticas'].iloc[i], s=str(i+1), ha='left', va='bottom')\n",
        "plt.legend()"
      ],
      "execution_count": 21,
      "outputs": [
        {
          "output_type": "stream",
          "name": "stderr",
          "text": [
            "No handles with labels found to put in legend.\n"
          ]
        },
        {
          "output_type": "execute_result",
          "data": {
            "text/plain": [
              "<matplotlib.legend.Legend at 0x7f649199ab50>"
            ]
          },
          "metadata": {},
          "execution_count": 21
        },
        {
          "output_type": "display_data",
          "data": {
            "image/png": "[encoded data removed]",
            "text/plain": [
              "<Figure size 504x504 with 1 Axes>"
            ]
          },
          "metadata": {
            "needs_background": "light"
          }
        }
      ]
    },
    {
      "cell_type": "markdown",
      "metadata": {
        "id": "57Rc0kZDefCN"
      },
      "source": [
        "Vemos el indicador score que representa una medida del grado de agrupación (relacionado con el inverso de suma de las distancias de los puntos a sus centroides)"
      ]
    },
    {
      "cell_type": "code",
      "metadata": {
        "colab": {
          "base_uri": "https://localhost:8080/"
        },
        "id": "i3PMi0iz_d52",
        "outputId": "a320be85-cb64-4cd3-c86d-c0d14ae35b0d"
      },
      "source": [
        "kmeans.score(X)"
      ],
      "execution_count": 22,
      "outputs": [
        {
          "output_type": "execute_result",
          "data": {
            "text/plain": [
              "-158.19924210697258"
            ]
          },
          "metadata": {},
          "execution_count": 22
        }
      ]
    },
    {
      "cell_type": "markdown",
      "metadata": {
        "id": "XhnasF6JfIjo"
      },
      "source": [
        "Para saber cuántos clusters o grupos debemos usar en nuestro modelo se uniliza la técnica del codo. \n",
        "Esta consiste en iterar la clusterización con una secuencia de valores de número de clusters y elegimos aquél número de clusters donde la pendiente del score se reduce significativamente"
      ]
    },
    {
      "cell_type": "code",
      "metadata": {
        "id": "OMxSJhcnDOga"
      },
      "source": [
        "scores=[]\n",
        "for k in range(2,8):\n",
        "  kmeans= KMeans(n_clusters=k, random_state=42)\n",
        "  kmeans.fit(X)\n",
        "  scores.append([k,kmeans.score(X)])\n",
        "scores"
      ],
      "execution_count": null,
      "outputs": []
    },
    {
      "cell_type": "code",
      "metadata": {
        "colab": {
          "base_uri": "https://localhost:8080/",
          "height": 265
        },
        "id": "9Pu3fU2ZD9qx",
        "outputId": "27fdf938-ebf6-4fd3-cf4c-c81abb63e5e1"
      },
      "source": [
        "score=pd.DataFrame(scores)\n",
        "plt.plot(score.iloc[:,0],score.iloc[:,1],'-o')\n",
        "plt.grid()"
      ],
      "execution_count": 24,
      "outputs": [
        {
          "output_type": "display_data",
          "data": {
            "image/png": "[encoded data removed]",
            "text/plain": [
              "<Figure size 432x288 with 1 Axes>"
            ]
          },
          "metadata": {
            "needs_background": "light"
          }
        }
      ]
    },
    {
      "cell_type": "markdown",
      "metadata": {
        "id": "OXYIPaFxgSmg"
      },
      "source": [
        "Podemos asignar cada alumno a una clase en función de su grupo o cluster"
      ]
    },
    {
      "cell_type": "code",
      "metadata": {
        "id": "CJPcMTItLoXb"
      },
      "source": [
        "dic = {0:'A', 1:'B', 2:'C', 3:'D'}\n",
        "\n",
        "X_clasificado['Clase']=[dic.get(n, n) for n in X_clasificado['Grupo']]"
      ],
      "execution_count": 25,
      "outputs": []
    },
    {
      "cell_type": "code",
      "metadata": {
        "id": "z90GVg3gMLOp"
      },
      "source": [
        "X_clasificado = X_clasificado.drop('Grupo', axis=1)\n",
        "X_clasificado.head()"
      ],
      "execution_count": null,
      "outputs": []
    },
    {
      "cell_type": "markdown",
      "metadata": {
        "id": "_fdgCJ6ngbL8"
      },
      "source": [
        "Y podemos exportar a excel el resultado de la clusterización"
      ]
    },
    {
      "cell_type": "code",
      "metadata": {
        "id": "JiXrlimREJIN"
      },
      "source": [
        "X_clasificado.to_excel('sample_data/notas_alumnos_clasificado.xlsx')"
      ],
      "execution_count": 27,
      "outputs": []
    },
    {
      "cell_type": "markdown",
      "metadata": {
        "id": "TP7099XPgttJ"
      },
      "source": [
        "El modelo, una vez entrenado, permite clasificar nuevos alumnos"
      ]
    },
    {
      "cell_type": "code",
      "metadata": {
        "id": "n6TExTg-h8Ce",
        "colab": {
          "base_uri": "https://localhost:8080/"
        },
        "outputId": "e4db621e-587d-4ab3-e303-ba048b2b1d6b"
      },
      "source": [
        "  kmeans= KMeans(n_clusters=4, random_state=42)  #Utilizamos el modelo con el número de clusters elegido\n",
        "  kmeans.fit(X)"
      ],
      "execution_count": 28,
      "outputs": [
        {
          "output_type": "execute_result",
          "data": {
            "text/plain": [
              "KMeans(n_clusters=4, random_state=42)"
            ]
          },
          "metadata": {},
          "execution_count": 28
        }
      ]
    },
    {
      "cell_type": "markdown",
      "metadata": {
        "id": "8BDFsPJGjfF2"
      },
      "source": [
        "Generamos un nuevo grupo de alumnos"
      ]
    },
    {
      "cell_type": "code",
      "metadata": {
        "id": "rWCyQ4LBg1W4"
      },
      "source": [
        "n_alumnos_nuevos = 10"
      ],
      "execution_count": 29,
      "outputs": []
    },
    {
      "cell_type": "code",
      "metadata": {
        "id": "iOoHabE1hDzC"
      },
      "source": [
        "X_nuevo=pd.DataFrame(index=np.arange(1,n_alumnos_nuevos+1))\n",
        "X_nuevo['Lengua']=5+5*(np.random.rand(n_alumnos_nuevos))\n",
        "X_nuevo['Matemáticas']=5+5*(np.random.rand(n_alumnos_nuevos))"
      ],
      "execution_count": 30,
      "outputs": []
    },
    {
      "cell_type": "code",
      "metadata": {
        "id": "_reNzKJmhWqM",
        "colab": {
          "base_uri": "https://localhost:8080/",
          "height": 359
        },
        "outputId": "79d82290-e898-4fe8-d276-6641a7cf00c2"
      },
      "source": [
        "X_nuevo"
      ],
      "execution_count": 31,
      "outputs": [
        {
          "output_type": "execute_result",
          "data": {
            "text/html": [
              "<div>\n",
              "<style scoped>\n",
              "    .dataframe tbody tr th:only-of-type {\n",
              "        vertical-align: middle;\n",
              "    }\n",
              "\n",
              "    .dataframe tbody tr th {\n",
              "        vertical-align: top;\n",
              "    }\n",
              "\n",
              "    .dataframe thead th {\n",
              "        text-align: right;\n",
              "    }\n",
              "</style>\n",
              "<table border=\"1\" class=\"dataframe\">\n",
              "  <thead>\n",
              "    <tr style=\"text-align: right;\">\n",
              "      <th></th>\n",
              "      <th>Lengua</th>\n",
              "      <th>Matemáticas</th>\n",
              "    </tr>\n",
              "  </thead>\n",
              "  <tbody>\n",
              "    <tr>\n",
              "      <th>1</th>\n",
              "      <td>5.854098</td>\n",
              "      <td>6.283595</td>\n",
              "    </tr>\n",
              "    <tr>\n",
              "      <th>2</th>\n",
              "      <td>7.300230</td>\n",
              "      <td>8.175608</td>\n",
              "    </tr>\n",
              "    <tr>\n",
              "      <th>3</th>\n",
              "      <td>5.899351</td>\n",
              "      <td>7.744651</td>\n",
              "    </tr>\n",
              "    <tr>\n",
              "      <th>4</th>\n",
              "      <td>5.887625</td>\n",
              "      <td>7.853699</td>\n",
              "    </tr>\n",
              "    <tr>\n",
              "      <th>5</th>\n",
              "      <td>6.746164</td>\n",
              "      <td>6.941633</td>\n",
              "    </tr>\n",
              "    <tr>\n",
              "      <th>6</th>\n",
              "      <td>7.673954</td>\n",
              "      <td>5.723379</td>\n",
              "    </tr>\n",
              "    <tr>\n",
              "      <th>7</th>\n",
              "      <td>8.986705</td>\n",
              "      <td>5.706167</td>\n",
              "    </tr>\n",
              "    <tr>\n",
              "      <th>8</th>\n",
              "      <td>7.330948</td>\n",
              "      <td>9.374858</td>\n",
              "    </tr>\n",
              "    <tr>\n",
              "      <th>9</th>\n",
              "      <td>9.853932</td>\n",
              "      <td>7.669263</td>\n",
              "    </tr>\n",
              "    <tr>\n",
              "      <th>10</th>\n",
              "      <td>9.530997</td>\n",
              "      <td>8.872855</td>\n",
              "    </tr>\n",
              "  </tbody>\n",
              "</table>\n",
              "</div>"
            ],
            "text/plain": [
              "      Lengua  Matemáticas\n",
              "1   5.854098     6.283595\n",
              "2   7.300230     8.175608\n",
              "3   5.899351     7.744651\n",
              "4   5.887625     7.853699\n",
              "5   6.746164     6.941633\n",
              "6   7.673954     5.723379\n",
              "7   8.986705     5.706167\n",
              "8   7.330948     9.374858\n",
              "9   9.853932     7.669263\n",
              "10  9.530997     8.872855"
            ]
          },
          "metadata": {},
          "execution_count": 31
        }
      ]
    },
    {
      "cell_type": "markdown",
      "metadata": {
        "id": "FKWcSzQ8jntZ"
      },
      "source": [
        "Con model.predict() generamos las nuevas etiquetas de asignación de los alumnos nuevos a los grupos o clusters ya creados"
      ]
    },
    {
      "cell_type": "code",
      "metadata": {
        "id": "WDOjbktkhjJn",
        "colab": {
          "base_uri": "https://localhost:8080/"
        },
        "outputId": "c42461c5-6011-40a6-85de-1dd0adc6ff0f"
      },
      "source": [
        "kmeans.predict(X_nuevo)"
      ],
      "execution_count": 32,
      "outputs": [
        {
          "output_type": "execute_result",
          "data": {
            "text/plain": [
              "array([3, 1, 1, 1, 3, 3, 0, 2, 2, 2], dtype=int32)"
            ]
          },
          "metadata": {},
          "execution_count": 32
        }
      ]
    },
    {
      "cell_type": "code",
      "metadata": {
        "id": "oJnKfCNjiDd-",
        "colab": {
          "base_uri": "https://localhost:8080/",
          "height": 359
        },
        "outputId": "87132538-5dc5-48bb-a6b4-e8cd74fea0d7"
      },
      "source": [
        "X_nuevo['Grupo']=kmeans.predict(X_nuevo)\n",
        "X_nuevo"
      ],
      "execution_count": 33,
      "outputs": [
        {
          "output_type": "execute_result",
          "data": {
            "text/html": [
              "<div>\n",
              "<style scoped>\n",
              "    .dataframe tbody tr th:only-of-type {\n",
              "        vertical-align: middle;\n",
              "    }\n",
              "\n",
              "    .dataframe tbody tr th {\n",
              "        vertical-align: top;\n",
              "    }\n",
              "\n",
              "    .dataframe thead th {\n",
              "        text-align: right;\n",
              "    }\n",
              "</style>\n",
              "<table border=\"1\" class=\"dataframe\">\n",
              "  <thead>\n",
              "    <tr style=\"text-align: right;\">\n",
              "      <th></th>\n",
              "      <th>Lengua</th>\n",
              "      <th>Matemáticas</th>\n",
              "      <th>Grupo</th>\n",
              "    </tr>\n",
              "  </thead>\n",
              "  <tbody>\n",
              "    <tr>\n",
              "      <th>1</th>\n",
              "      <td>5.854098</td>\n",
              "      <td>6.283595</td>\n",
              "      <td>3</td>\n",
              "    </tr>\n",
              "    <tr>\n",
              "      <th>2</th>\n",
              "      <td>7.300230</td>\n",
              "      <td>8.175608</td>\n",
              "      <td>1</td>\n",
              "    </tr>\n",
              "    <tr>\n",
              "      <th>3</th>\n",
              "      <td>5.899351</td>\n",
              "      <td>7.744651</td>\n",
              "      <td>1</td>\n",
              "    </tr>\n",
              "    <tr>\n",
              "      <th>4</th>\n",
              "      <td>5.887625</td>\n",
              "      <td>7.853699</td>\n",
              "      <td>1</td>\n",
              "    </tr>\n",
              "    <tr>\n",
              "      <th>5</th>\n",
              "      <td>6.746164</td>\n",
              "      <td>6.941633</td>\n",
              "      <td>3</td>\n",
              "    </tr>\n",
              "    <tr>\n",
              "      <th>6</th>\n",
              "      <td>7.673954</td>\n",
              "      <td>5.723379</td>\n",
              "      <td>3</td>\n",
              "    </tr>\n",
              "    <tr>\n",
              "      <th>7</th>\n",
              "      <td>8.986705</td>\n",
              "      <td>5.706167</td>\n",
              "      <td>0</td>\n",
              "    </tr>\n",
              "    <tr>\n",
              "      <th>8</th>\n",
              "      <td>7.330948</td>\n",
              "      <td>9.374858</td>\n",
              "      <td>2</td>\n",
              "    </tr>\n",
              "    <tr>\n",
              "      <th>9</th>\n",
              "      <td>9.853932</td>\n",
              "      <td>7.669263</td>\n",
              "      <td>2</td>\n",
              "    </tr>\n",
              "    <tr>\n",
              "      <th>10</th>\n",
              "      <td>9.530997</td>\n",
              "      <td>8.872855</td>\n",
              "      <td>2</td>\n",
              "    </tr>\n",
              "  </tbody>\n",
              "</table>\n",
              "</div>"
            ],
            "text/plain": [
              "      Lengua  Matemáticas  Grupo\n",
              "1   5.854098     6.283595      3\n",
              "2   7.300230     8.175608      1\n",
              "3   5.899351     7.744651      1\n",
              "4   5.887625     7.853699      1\n",
              "5   6.746164     6.941633      3\n",
              "6   7.673954     5.723379      3\n",
              "7   8.986705     5.706167      0\n",
              "8   7.330948     9.374858      2\n",
              "9   9.853932     7.669263      2\n",
              "10  9.530997     8.872855      2"
            ]
          },
          "metadata": {},
          "execution_count": 33
        }
      ]
    },
    {
      "cell_type": "markdown",
      "metadata": {
        "id": "BZj7pM8fj3Ch"
      },
      "source": [
        "Asignamos los alumnos por clase en función del grupo o cluster"
      ]
    },
    {
      "cell_type": "code",
      "metadata": {
        "id": "zZRKiAcZin80",
        "colab": {
          "base_uri": "https://localhost:8080/",
          "height": 359
        },
        "outputId": "56e5aece-2515-46b4-8c81-33949296bc5e"
      },
      "source": [
        "X_nuevo['Clase']=[dic.get(n, n) for n in X_nuevo['Grupo']]\n",
        "X_nuevo"
      ],
      "execution_count": 34,
      "outputs": [
        {
          "output_type": "execute_result",
          "data": {
            "text/html": [
              "<div>\n",
              "<style scoped>\n",
              "    .dataframe tbody tr th:only-of-type {\n",
              "        vertical-align: middle;\n",
              "    }\n",
              "\n",
              "    .dataframe tbody tr th {\n",
              "        vertical-align: top;\n",
              "    }\n",
              "\n",
              "    .dataframe thead th {\n",
              "        text-align: right;\n",
              "    }\n",
              "</style>\n",
              "<table border=\"1\" class=\"dataframe\">\n",
              "  <thead>\n",
              "    <tr style=\"text-align: right;\">\n",
              "      <th></th>\n",
              "      <th>Lengua</th>\n",
              "      <th>Matemáticas</th>\n",
              "      <th>Grupo</th>\n",
              "      <th>Clase</th>\n",
              "    </tr>\n",
              "  </thead>\n",
              "  <tbody>\n",
              "    <tr>\n",
              "      <th>1</th>\n",
              "      <td>5.854098</td>\n",
              "      <td>6.283595</td>\n",
              "      <td>3</td>\n",
              "      <td>D</td>\n",
              "    </tr>\n",
              "    <tr>\n",
              "      <th>2</th>\n",
              "      <td>7.300230</td>\n",
              "      <td>8.175608</td>\n",
              "      <td>1</td>\n",
              "      <td>B</td>\n",
              "    </tr>\n",
              "    <tr>\n",
              "      <th>3</th>\n",
              "      <td>5.899351</td>\n",
              "      <td>7.744651</td>\n",
              "      <td>1</td>\n",
              "      <td>B</td>\n",
              "    </tr>\n",
              "    <tr>\n",
              "      <th>4</th>\n",
              "      <td>5.887625</td>\n",
              "      <td>7.853699</td>\n",
              "      <td>1</td>\n",
              "      <td>B</td>\n",
              "    </tr>\n",
              "    <tr>\n",
              "      <th>5</th>\n",
              "      <td>6.746164</td>\n",
              "      <td>6.941633</td>\n",
              "      <td>3</td>\n",
              "      <td>D</td>\n",
              "    </tr>\n",
              "    <tr>\n",
              "      <th>6</th>\n",
              "      <td>7.673954</td>\n",
              "      <td>5.723379</td>\n",
              "      <td>3</td>\n",
              "      <td>D</td>\n",
              "    </tr>\n",
              "    <tr>\n",
              "      <th>7</th>\n",
              "      <td>8.986705</td>\n",
              "      <td>5.706167</td>\n",
              "      <td>0</td>\n",
              "      <td>A</td>\n",
              "    </tr>\n",
              "    <tr>\n",
              "      <th>8</th>\n",
              "      <td>7.330948</td>\n",
              "      <td>9.374858</td>\n",
              "      <td>2</td>\n",
              "      <td>C</td>\n",
              "    </tr>\n",
              "    <tr>\n",
              "      <th>9</th>\n",
              "      <td>9.853932</td>\n",
              "      <td>7.669263</td>\n",
              "      <td>2</td>\n",
              "      <td>C</td>\n",
              "    </tr>\n",
              "    <tr>\n",
              "      <th>10</th>\n",
              "      <td>9.530997</td>\n",
              "      <td>8.872855</td>\n",
              "      <td>2</td>\n",
              "      <td>C</td>\n",
              "    </tr>\n",
              "  </tbody>\n",
              "</table>\n",
              "</div>"
            ],
            "text/plain": [
              "      Lengua  Matemáticas  Grupo Clase\n",
              "1   5.854098     6.283595      3     D\n",
              "2   7.300230     8.175608      1     B\n",
              "3   5.899351     7.744651      1     B\n",
              "4   5.887625     7.853699      1     B\n",
              "5   6.746164     6.941633      3     D\n",
              "6   7.673954     5.723379      3     D\n",
              "7   8.986705     5.706167      0     A\n",
              "8   7.330948     9.374858      2     C\n",
              "9   9.853932     7.669263      2     C\n",
              "10  9.530997     8.872855      2     C"
            ]
          },
          "metadata": {},
          "execution_count": 34
        }
      ]
    }
  ]
}