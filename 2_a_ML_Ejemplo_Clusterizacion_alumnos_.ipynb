{
  "nbformat": 4,
  "nbformat_minor": 0,
  "metadata": {
    "colab": {
      "name": "2_a_ML_Ejemplo_Clusterizacion_alumnos .ipynb",
      "provenance": [],
      "include_colab_link": true
    },
    "kernelspec": {
      "name": "python3",
      "display_name": "Python 3"
    },
    "language_info": {
      "name": "python"
    }
  },
  "cells": [
    {
      "cell_type": "markdown",
      "metadata": {
        "id": "view-in-github",
        "colab_type": "text"
      },
      "source": [
        "<a href=\"https://colab.research.google.com/github/wilmerod/Notebooks-Curso-Big-Data/blob/main/2_a_ML_Ejemplo_Clusterizacion_alumnos_.ipynb\" target=\"_parent\"><img src=\"https://colab.research.google.com/assets/colab-badge.svg\" alt=\"Open In Colab\"/></a>"
      ]
    },
    {
      "cell_type": "code",
      "metadata": {
        "id": "KvDhtISU4K6Q"
      },
      "source": [
        "import numpy as np\n",
        "import pandas as pd\n",
        "import matplotlib.pyplot as plt\n",
        "from sklearn.cluster import KMeans"
      ],
      "execution_count": null,
      "outputs": []
    },
    {
      "cell_type": "markdown",
      "metadata": {
        "id": "iNu_eohhc5ft"
      },
      "source": [
        "Creamos un grupo de alumnos"
      ]
    },
    {
      "cell_type": "code",
      "metadata": {
        "id": "S9NTimoQHIES"
      },
      "source": [
        "n_alumnos = 60"
      ],
      "execution_count": null,
      "outputs": []
    },
    {
      "cell_type": "markdown",
      "metadata": {
        "id": "o2SN3u-Nc8zv"
      },
      "source": [
        "Creamos un serie de calificaciones de Lengua"
      ]
    },
    {
      "cell_type": "code",
      "metadata": {
        "colab": {
          "base_uri": "https://localhost:8080/"
        },
        "id": "tl6NhqFi4a4p",
        "outputId": "98583a8f-1a64-47ed-a251-70ccbf701fce"
      },
      "source": [
        "Lengua=5+5*(np.random.rand(n_alumnos))\n",
        "Lengua"
      ],
      "execution_count": null,
      "outputs": [
        {
          "output_type": "execute_result",
          "data": {
            "text/plain": [
              "array([7.71382647, 8.0007611 , 5.70018371, 7.51711096, 8.35955023,\n",
              "       5.25793991, 5.21009025, 5.97234797, 8.33576179, 8.09867875,\n",
              "       9.10268968, 9.65464148, 5.7649844 , 8.20884835, 8.76550207,\n",
              "       7.95671561, 6.24465748, 8.28988777, 5.62430919, 5.81978916,\n",
              "       8.13232027, 7.46830375, 7.26927462, 9.61480695, 7.51974351,\n",
              "       8.36247085, 8.91704339, 6.71252548, 9.18942582, 9.11646302,\n",
              "       6.53570079, 7.64917732, 8.49654969, 9.08616891, 9.1128675 ,\n",
              "       6.88732022, 9.92765384, 6.42716494, 5.76274262, 8.76489475,\n",
              "       7.55459128, 5.63644518, 7.46614818, 8.60050892, 9.18762587,\n",
              "       6.44906427, 5.63890316, 8.10382948, 8.92352932, 9.19018352,\n",
              "       7.33666593, 9.73944412, 8.96031362, 5.91369078, 9.14820538,\n",
              "       9.12500689, 6.39746514, 6.47116532, 5.44235034, 5.65313837])"
            ]
          },
          "metadata": {},
          "execution_count": 83
        }
      ]
    },
    {
      "cell_type": "markdown",
      "metadata": {
        "id": "ecFKJKJxdGRK"
      },
      "source": [
        "Creamos un serie de calificaciones de Matemáticas"
      ]
    },
    {
      "cell_type": "code",
      "metadata": {
        "colab": {
          "base_uri": "https://localhost:8080/"
        },
        "id": "Xa_RlqIe4h6o",
        "outputId": "1a97ed59-6554-4cb6-ace9-171e17942133"
      },
      "source": [
        "Matematicas=5+5*(np.random.rand(n_alumnos))\n",
        "Matematicas"
      ],
      "execution_count": null,
      "outputs": [
        {
          "output_type": "execute_result",
          "data": {
            "text/plain": [
              "array([6.20090502, 7.61561468, 9.00450601, 6.97367095, 7.07390613,\n",
              "       8.23445132, 6.63375276, 9.6671436 , 8.85607132, 9.64899567,\n",
              "       6.44742433, 9.10796106, 5.32074457, 8.757511  , 7.54657347,\n",
              "       8.52655366, 9.77376185, 5.92399544, 5.0030484 , 9.88435605,\n",
              "       7.47475807, 8.44013539, 5.73348302, 6.87833606, 7.06232063,\n",
              "       7.0200678 , 9.70823932, 5.12420327, 5.20327278, 6.56355061,\n",
              "       9.54856058, 6.2911681 , 7.86365675, 7.74701144, 5.76715446,\n",
              "       8.56918799, 8.24758067, 8.87117828, 6.51785487, 6.11405102,\n",
              "       8.13807412, 7.47652973, 8.63481754, 9.95124392, 6.80044918,\n",
              "       7.72578116, 6.19162436, 7.88525517, 6.8745288 , 9.46877114,\n",
              "       8.72432353, 5.21491256, 8.35531171, 7.16430784, 5.12684136,\n",
              "       8.79663233, 6.46872286, 5.13694602, 5.88965612, 9.74453712])"
            ]
          },
          "metadata": {},
          "execution_count": 84
        }
      ]
    },
    {
      "cell_type": "markdown",
      "metadata": {
        "id": "7NGyS9dDdJMX"
      },
      "source": [
        "Visualizamos los datos de las calificaciones del grupo de alumnos"
      ]
    },
    {
      "cell_type": "code",
      "metadata": {
        "colab": {
          "base_uri": "https://localhost:8080/",
          "height": 459
        },
        "id": "dZHiLWRi49zq",
        "outputId": "34fc92ce-abcf-43ec-c73c-07e9d921878b"
      },
      "source": [
        "plt.figure(figsize=(7,7))\n",
        "plt.scatter(Lengua, Matematicas)\n",
        "plt.grid()\n",
        "plt.xlabel('Lengua')\n",
        "plt.ylabel('Matemáticas')"
      ],
      "execution_count": null,
      "outputs": [
        {
          "output_type": "execute_result",
          "data": {
            "text/plain": [
              "Text(0, 0.5, 'Matemáticas')"
            ]
          },
          "metadata": {},
          "execution_count": 85
        },
        {
          "output_type": "display_data",
          "data": {
            "image/png": "[encoded data removed]",
            "text/plain": [
              "<Figure size 504x504 with 1 Axes>"
            ]
          },
          "metadata": {
            "needs_background": "light"
          }
        }
      ]
    },
    {
      "cell_type": "markdown",
      "metadata": {
        "id": "aErHQzPRdQrz"
      },
      "source": [
        "Creamos un DataFrame con los datos de los alumnos y sus calificaciones en Lengua y Matemáticas"
      ]
    },
    {
      "cell_type": "code",
      "metadata": {
        "colab": {
          "base_uri": "https://localhost:8080/"
        },
        "id": "ewWzDI3L7VOv",
        "outputId": "5a553d9d-e1d6-4726-bc94-ef9f23cd6632"
      },
      "source": [
        "np.arange(1,n_alumnos+1)"
      ],
      "execution_count": null,
      "outputs": [
        {
          "output_type": "execute_result",
          "data": {
            "text/plain": [
              "array([ 1,  2,  3,  4,  5,  6,  7,  8,  9, 10, 11, 12, 13, 14, 15, 16, 17,\n",
              "       18, 19, 20, 21, 22, 23, 24, 25, 26, 27, 28, 29, 30, 31, 32, 33, 34,\n",
              "       35, 36, 37, 38, 39, 40, 41, 42, 43, 44, 45, 46, 47, 48, 49, 50, 51,\n",
              "       52, 53, 54, 55, 56, 57, 58, 59, 60])"
            ]
          },
          "metadata": {},
          "execution_count": 86
        }
      ]
    },
    {
      "cell_type": "code",
      "metadata": {
        "id": "pvzXopsw8Oph"
      },
      "source": [
        "X=pd.DataFrame(index=np.arange(1,n_alumnos+1))"
      ],
      "execution_count": null,
      "outputs": []
    },
    {
      "cell_type": "code",
      "metadata": {
        "id": "IzZ9ZKOG8U03"
      },
      "source": [
        "X['Lengua']=Lengua"
      ],
      "execution_count": null,
      "outputs": []
    },
    {
      "cell_type": "code",
      "metadata": {
        "id": "s0Vsowpw8fol"
      },
      "source": [
        "X['Matemáticas']=Matematicas"
      ],
      "execution_count": null,
      "outputs": []
    },
    {
      "cell_type": "code",
      "metadata": {
        "colab": {
          "base_uri": "https://localhost:8080/",
          "height": 202
        },
        "id": "dsxqwVe_85W6",
        "outputId": "44f1234f-df43-4cce-df4c-b5bed914827c"
      },
      "source": [
        "X.head()"
      ],
      "execution_count": null,
      "outputs": [
        {
          "output_type": "execute_result",
          "data": {
            "text/html": [
              "<div>\n",
              "<style scoped>\n",
              "    .dataframe tbody tr th:only-of-type {\n",
              "        vertical-align: middle;\n",
              "    }\n",
              "\n",
              "    .dataframe tbody tr th {\n",
              "        vertical-align: top;\n",
              "    }\n",
              "\n",
              "    .dataframe thead th {\n",
              "        text-align: right;\n",
              "    }\n",
              "</style>\n",
              "<table border=\"1\" class=\"dataframe\">\n",
              "  <thead>\n",
              "    <tr style=\"text-align: right;\">\n",
              "      <th></th>\n",
              "      <th>Lengua</th>\n",
              "      <th>Matemáticas</th>\n",
              "    </tr>\n",
              "  </thead>\n",
              "  <tbody>\n",
              "    <tr>\n",
              "      <th>1</th>\n",
              "      <td>7.713826</td>\n",
              "      <td>6.200905</td>\n",
              "    </tr>\n",
              "    <tr>\n",
              "      <th>2</th>\n",
              "      <td>8.000761</td>\n",
              "      <td>7.615615</td>\n",
              "    </tr>\n",
              "    <tr>\n",
              "      <th>3</th>\n",
              "      <td>5.700184</td>\n",
              "      <td>9.004506</td>\n",
              "    </tr>\n",
              "    <tr>\n",
              "      <th>4</th>\n",
              "      <td>7.517111</td>\n",
              "      <td>6.973671</td>\n",
              "    </tr>\n",
              "    <tr>\n",
              "      <th>5</th>\n",
              "      <td>8.359550</td>\n",
              "      <td>7.073906</td>\n",
              "    </tr>\n",
              "  </tbody>\n",
              "</table>\n",
              "</div>"
            ],
            "text/plain": [
              "     Lengua  Matemáticas\n",
              "1  7.713826     6.200905\n",
              "2  8.000761     7.615615\n",
              "3  5.700184     9.004506\n",
              "4  7.517111     6.973671\n",
              "5  8.359550     7.073906"
            ]
          },
          "metadata": {},
          "execution_count": 90
        }
      ]
    },
    {
      "cell_type": "markdown",
      "metadata": {
        "id": "DvjXxZqrdawl"
      },
      "source": [
        "Podemos exportar la tabla a excel"
      ]
    },
    {
      "cell_type": "code",
      "metadata": {
        "id": "1PeG8E7IJmix"
      },
      "source": [
        "X.to_excel('sample_data/notas_alumnos.xlsx')"
      ],
      "execution_count": null,
      "outputs": []
    },
    {
      "cell_type": "markdown",
      "metadata": {
        "id": "K-BP28qFdeQZ"
      },
      "source": [
        "También podríamos importar un fichero excel como origen de los datos de los alumnos"
      ]
    },
    {
      "cell_type": "code",
      "metadata": {
        "id": "rq28ERxUKQTx"
      },
      "source": [
        "X=pd.read_excel('sample_data/notas_alumnos.xlsx', index_col=0)"
      ],
      "execution_count": null,
      "outputs": []
    },
    {
      "cell_type": "code",
      "metadata": {
        "colab": {
          "base_uri": "https://localhost:8080/",
          "height": 202
        },
        "id": "kSDZ2QHmKWad",
        "outputId": "a7801bfe-8144-4aed-f6b3-9f0d0f1a2e59"
      },
      "source": [
        "X.head()"
      ],
      "execution_count": null,
      "outputs": [
        {
          "output_type": "execute_result",
          "data": {
            "text/html": [
              "<div>\n",
              "<style scoped>\n",
              "    .dataframe tbody tr th:only-of-type {\n",
              "        vertical-align: middle;\n",
              "    }\n",
              "\n",
              "    .dataframe tbody tr th {\n",
              "        vertical-align: top;\n",
              "    }\n",
              "\n",
              "    .dataframe thead th {\n",
              "        text-align: right;\n",
              "    }\n",
              "</style>\n",
              "<table border=\"1\" class=\"dataframe\">\n",
              "  <thead>\n",
              "    <tr style=\"text-align: right;\">\n",
              "      <th></th>\n",
              "      <th>Lengua</th>\n",
              "      <th>Matemáticas</th>\n",
              "    </tr>\n",
              "  </thead>\n",
              "  <tbody>\n",
              "    <tr>\n",
              "      <th>1</th>\n",
              "      <td>7.713826</td>\n",
              "      <td>6.200905</td>\n",
              "    </tr>\n",
              "    <tr>\n",
              "      <th>2</th>\n",
              "      <td>8.000761</td>\n",
              "      <td>7.615615</td>\n",
              "    </tr>\n",
              "    <tr>\n",
              "      <th>3</th>\n",
              "      <td>5.700184</td>\n",
              "      <td>9.004506</td>\n",
              "    </tr>\n",
              "    <tr>\n",
              "      <th>4</th>\n",
              "      <td>7.517111</td>\n",
              "      <td>6.973671</td>\n",
              "    </tr>\n",
              "    <tr>\n",
              "      <th>5</th>\n",
              "      <td>8.359550</td>\n",
              "      <td>7.073906</td>\n",
              "    </tr>\n",
              "  </tbody>\n",
              "</table>\n",
              "</div>"
            ],
            "text/plain": [
              "     Lengua  Matemáticas\n",
              "1  7.713826     6.200905\n",
              "2  8.000761     7.615615\n",
              "3  5.700184     9.004506\n",
              "4  7.517111     6.973671\n",
              "5  8.359550     7.073906"
            ]
          },
          "metadata": {},
          "execution_count": 93
        }
      ]
    },
    {
      "cell_type": "markdown",
      "metadata": {
        "id": "s4YOogE5dnrN"
      },
      "source": [
        "Visualizamos los datos de la tabla de notas de los alumnos"
      ]
    },
    {
      "cell_type": "code",
      "metadata": {
        "colab": {
          "base_uri": "https://localhost:8080/",
          "height": 442
        },
        "id": "bWAAoJIp6h9G",
        "outputId": "d16533aa-d4c3-4804-9290-c9954994d7cc"
      },
      "source": [
        "plt.figure(figsize=(7,7))\n",
        "plt.scatter(X['Lengua'],X['Matemáticas'], s=60)\n",
        "plt.grid()\n",
        "plt.xlabel('Lengua')\n",
        "plt.ylabel('Matemáticas')\n",
        "for i in range(len(X)):\n",
        "  plt.text(X['Lengua'].iloc[i], X['Matemáticas'].iloc[i], s=str(i+1), ha='left', va='bottom')"
      ],
      "execution_count": null,
      "outputs": [
        {
          "output_type": "display_data",
          "data": {
            "image/png": "[encoded data removed]",
            "text/plain": [
              "<Figure size 504x504 with 1 Axes>"
            ]
          },
          "metadata": {
            "needs_background": "light"
          }
        }
      ]
    },
    {
      "cell_type": "markdown",
      "metadata": {
        "id": "JwNisyzadvAY"
      },
      "source": [
        "Deseamos agrupar los alumnos en función de sus calificaciones en estas materias "
      ]
    },
    {
      "cell_type": "code",
      "metadata": {
        "colab": {
          "base_uri": "https://localhost:8080/"
        },
        "id": "_A3639UD5V5m",
        "outputId": "ac49570d-32cc-47c7-c51a-89b48764cfa7"
      },
      "source": [
        "n_grupos = 3\n",
        "\n",
        "kmeans = KMeans(n_clusters=n_grupos, random_state=42)  #Crea el modelo\n",
        "kmeans.fit(X)  #Entrena el modelo con los datos"
      ],
      "execution_count": null,
      "outputs": [
        {
          "output_type": "execute_result",
          "data": {
            "text/plain": [
              "KMeans(algorithm='auto', copy_x=True, init='k-means++', max_iter=300,\n",
              "       n_clusters=3, n_init=10, n_jobs=None, precompute_distances='auto',\n",
              "       random_state=42, tol=0.0001, verbose=0)"
            ]
          },
          "metadata": {},
          "execution_count": 95
        }
      ]
    },
    {
      "cell_type": "markdown",
      "metadata": {
        "id": "SPVl6YZleEZE"
      },
      "source": [
        "Creamos una copia de la tabla y le incorporamos la columna con la clasificación que he realizado el modelo"
      ]
    },
    {
      "cell_type": "code",
      "metadata": {
        "id": "F4cQkis4-X-c"
      },
      "source": [
        "X_clasificado = X.copy()\n",
        "X_clasificado['Grupo'] = kmeans.labels_"
      ],
      "execution_count": null,
      "outputs": []
    },
    {
      "cell_type": "code",
      "metadata": {
        "colab": {
          "base_uri": "https://localhost:8080/",
          "height": 202
        },
        "id": "Xv235z59-lbJ",
        "outputId": "30451a70-8625-46b5-d370-55a4d299aa96"
      },
      "source": [
        "X_clasificado.head()"
      ],
      "execution_count": null,
      "outputs": [
        {
          "output_type": "execute_result",
          "data": {
            "text/html": [
              "<div>\n",
              "<style scoped>\n",
              "    .dataframe tbody tr th:only-of-type {\n",
              "        vertical-align: middle;\n",
              "    }\n",
              "\n",
              "    .dataframe tbody tr th {\n",
              "        vertical-align: top;\n",
              "    }\n",
              "\n",
              "    .dataframe thead th {\n",
              "        text-align: right;\n",
              "    }\n",
              "</style>\n",
              "<table border=\"1\" class=\"dataframe\">\n",
              "  <thead>\n",
              "    <tr style=\"text-align: right;\">\n",
              "      <th></th>\n",
              "      <th>Lengua</th>\n",
              "      <th>Matemáticas</th>\n",
              "      <th>Grupo</th>\n",
              "    </tr>\n",
              "  </thead>\n",
              "  <tbody>\n",
              "    <tr>\n",
              "      <th>1</th>\n",
              "      <td>7.713826</td>\n",
              "      <td>6.200905</td>\n",
              "      <td>2</td>\n",
              "    </tr>\n",
              "    <tr>\n",
              "      <th>2</th>\n",
              "      <td>8.000761</td>\n",
              "      <td>7.615615</td>\n",
              "      <td>2</td>\n",
              "    </tr>\n",
              "    <tr>\n",
              "      <th>3</th>\n",
              "      <td>5.700184</td>\n",
              "      <td>9.004506</td>\n",
              "      <td>1</td>\n",
              "    </tr>\n",
              "    <tr>\n",
              "      <th>4</th>\n",
              "      <td>7.517111</td>\n",
              "      <td>6.973671</td>\n",
              "      <td>2</td>\n",
              "    </tr>\n",
              "    <tr>\n",
              "      <th>5</th>\n",
              "      <td>8.359550</td>\n",
              "      <td>7.073906</td>\n",
              "      <td>2</td>\n",
              "    </tr>\n",
              "  </tbody>\n",
              "</table>\n",
              "</div>"
            ],
            "text/plain": [
              "     Lengua  Matemáticas  Grupo\n",
              "1  7.713826     6.200905      2\n",
              "2  8.000761     7.615615      2\n",
              "3  5.700184     9.004506      1\n",
              "4  7.517111     6.973671      2\n",
              "5  8.359550     7.073906      2"
            ]
          },
          "metadata": {},
          "execution_count": 97
        }
      ]
    },
    {
      "cell_type": "markdown",
      "metadata": {
        "id": "SWe1lR5jePB9"
      },
      "source": [
        "Hacemos recuento de alumnos por grupo de clusterización"
      ]
    },
    {
      "cell_type": "code",
      "metadata": {
        "colab": {
          "base_uri": "https://localhost:8080/"
        },
        "id": "Mg343niA-m0M",
        "outputId": "48bcac22-bb3b-4850-937f-ccd2c359a5f2"
      },
      "source": [
        "X_clasificado['Grupo'].value_counts().sort_index()"
      ],
      "execution_count": null,
      "outputs": [
        {
          "output_type": "execute_result",
          "data": {
            "text/plain": [
              "0    14\n",
              "1    23\n",
              "2    23\n",
              "Name: Grupo, dtype: int64"
            ]
          },
          "metadata": {},
          "execution_count": 98
        }
      ]
    },
    {
      "cell_type": "markdown",
      "metadata": {
        "id": "ZPxmGU4peUor"
      },
      "source": [
        "Visualizamos el resultado de la clusterización de los alumnos"
      ]
    },
    {
      "cell_type": "code",
      "metadata": {
        "colab": {
          "base_uri": "https://localhost:8080/",
          "height": 476
        },
        "id": "S3TxpBV_-2qw",
        "outputId": "a1dd2f6f-fc8f-4fdd-b539-6820a9cc5a27"
      },
      "source": [
        "plt.figure(figsize=(7,7))\n",
        "plt.scatter(X_clasificado['Lengua'],X_clasificado['Matemáticas'],c=X_clasificado['Grupo'], s=60)\n",
        "plt.grid()\n",
        "plt.xlabel('Lengua')\n",
        "plt.ylabel('Matemáticas')\n",
        "for i in range(len(X_clasificado)):\n",
        "  plt.text(X_clasificado['Lengua'].iloc[i], X_clasificado['Matemáticas'].iloc[i], s=str(i+1), ha='left', va='bottom')\n",
        "plt.legend()"
      ],
      "execution_count": null,
      "outputs": [
        {
          "output_type": "stream",
          "name": "stderr",
          "text": [
            "No handles with labels found to put in legend.\n"
          ]
        },
        {
          "output_type": "execute_result",
          "data": {
            "text/plain": [
              "<matplotlib.legend.Legend at 0x7f4eb2f530d0>"
            ]
          },
          "metadata": {},
          "execution_count": 99
        },
        {
          "output_type": "display_data",
          "data": {
            "image/png": "[encoded data removed]",
            "text/plain": [
              "<Figure size 504x504 with 1 Axes>"
            ]
          },
          "metadata": {
            "needs_background": "light"
          }
        }
      ]
    },
    {
      "cell_type": "markdown",
      "metadata": {
        "id": "57Rc0kZDefCN"
      },
      "source": [
        "Vemos el indicador score que representa una medida del grado de agrupación (relacionado con el inverso de suma de las distancias de los puntos a sus centroides)"
      ]
    },
    {
      "cell_type": "code",
      "metadata": {
        "colab": {
          "base_uri": "https://localhost:8080/"
        },
        "id": "i3PMi0iz_d52",
        "outputId": "31f7974d-9c6f-43b5-d2c6-d1ab559acc83"
      },
      "source": [
        "kmeans.score(X)"
      ],
      "execution_count": null,
      "outputs": [
        {
          "output_type": "execute_result",
          "data": {
            "text/plain": [
              "-87.86721377971925"
            ]
          },
          "metadata": {},
          "execution_count": 100
        }
      ]
    },
    {
      "cell_type": "markdown",
      "metadata": {
        "id": "XhnasF6JfIjo"
      },
      "source": [
        "Para saber cuántos clusters o grupos debemos usar en nuestro modelo se uniliza la técnica del codo. \n",
        "Esta consiste en iterar la clusterización con una secuencia de valores de número de clusters y elegimos aquél número de clusters donde la pendiente del score se reduce significativamente"
      ]
    },
    {
      "cell_type": "code",
      "metadata": {
        "colab": {
          "base_uri": "https://localhost:8080/"
        },
        "id": "OMxSJhcnDOga",
        "outputId": "8591fd33-46c8-455e-8c0a-5dd1714257b4"
      },
      "source": [
        "scores=[]\n",
        "for k in range(2,8):\n",
        "  kmeans= KMeans(n_clusters=k, random_state=42)\n",
        "  kmeans.fit(X)\n",
        "  scores.append([k,kmeans.score(X)])\n",
        "scores"
      ],
      "execution_count": null,
      "outputs": [
        {
          "output_type": "execute_result",
          "data": {
            "text/plain": [
              "[[2, -146.25230164058237],\n",
              " [3, -87.86721377971925],\n",
              " [4, -55.70515069377487],\n",
              " [5, -43.95422343613967],\n",
              " [6, -36.02531340099361],\n",
              " [7, -29.475219975916517]]"
            ]
          },
          "metadata": {},
          "execution_count": 101
        }
      ]
    },
    {
      "cell_type": "code",
      "metadata": {
        "colab": {
          "base_uri": "https://localhost:8080/",
          "height": 265
        },
        "id": "9Pu3fU2ZD9qx",
        "outputId": "f006765f-7eac-4359-faa7-0f3dfe1c7431"
      },
      "source": [
        "score=pd.DataFrame(scores)\n",
        "plt.plot(score.iloc[:,0],score.iloc[:,1],'-o')\n",
        "plt.grid()"
      ],
      "execution_count": null,
      "outputs": [
        {
          "output_type": "display_data",
          "data": {
            "image/png": "[encoded data removed]",
            "text/plain": [
              "<Figure size 432x288 with 1 Axes>"
            ]
          },
          "metadata": {
            "needs_background": "light"
          }
        }
      ]
    },
    {
      "cell_type": "markdown",
      "metadata": {
        "id": "OXYIPaFxgSmg"
      },
      "source": [
        "Podemos asignar cada alumno a una clase en función de su grupo o cluster"
      ]
    },
    {
      "cell_type": "code",
      "metadata": {
        "id": "CJPcMTItLoXb"
      },
      "source": [
        "dic = {0:'A', 1:'B', 2:'C', 3:'D'}\n",
        "\n",
        "X_clasificado['Clase']=[dic.get(n, n) for n in X_clasificado['Grupo']]"
      ],
      "execution_count": null,
      "outputs": []
    },
    {
      "cell_type": "code",
      "metadata": {
        "colab": {
          "base_uri": "https://localhost:8080/",
          "height": 202
        },
        "id": "z90GVg3gMLOp",
        "outputId": "67f78ac3-c91d-41bc-f621-9cd7b8ae30c7"
      },
      "source": [
        "X_clasificado = X_clasificado.drop('Grupo', axis=1)\n",
        "X_clasificado.head()"
      ],
      "execution_count": null,
      "outputs": [
        {
          "output_type": "execute_result",
          "data": {
            "text/html": [
              "<div>\n",
              "<style scoped>\n",
              "    .dataframe tbody tr th:only-of-type {\n",
              "        vertical-align: middle;\n",
              "    }\n",
              "\n",
              "    .dataframe tbody tr th {\n",
              "        vertical-align: top;\n",
              "    }\n",
              "\n",
              "    .dataframe thead th {\n",
              "        text-align: right;\n",
              "    }\n",
              "</style>\n",
              "<table border=\"1\" class=\"dataframe\">\n",
              "  <thead>\n",
              "    <tr style=\"text-align: right;\">\n",
              "      <th></th>\n",
              "      <th>Lengua</th>\n",
              "      <th>Matemáticas</th>\n",
              "      <th>Clase</th>\n",
              "    </tr>\n",
              "  </thead>\n",
              "  <tbody>\n",
              "    <tr>\n",
              "      <th>1</th>\n",
              "      <td>7.713826</td>\n",
              "      <td>6.200905</td>\n",
              "      <td>C</td>\n",
              "    </tr>\n",
              "    <tr>\n",
              "      <th>2</th>\n",
              "      <td>8.000761</td>\n",
              "      <td>7.615615</td>\n",
              "      <td>C</td>\n",
              "    </tr>\n",
              "    <tr>\n",
              "      <th>3</th>\n",
              "      <td>5.700184</td>\n",
              "      <td>9.004506</td>\n",
              "      <td>B</td>\n",
              "    </tr>\n",
              "    <tr>\n",
              "      <th>4</th>\n",
              "      <td>7.517111</td>\n",
              "      <td>6.973671</td>\n",
              "      <td>C</td>\n",
              "    </tr>\n",
              "    <tr>\n",
              "      <th>5</th>\n",
              "      <td>8.359550</td>\n",
              "      <td>7.073906</td>\n",
              "      <td>C</td>\n",
              "    </tr>\n",
              "  </tbody>\n",
              "</table>\n",
              "</div>"
            ],
            "text/plain": [
              "     Lengua  Matemáticas Clase\n",
              "1  7.713826     6.200905     C\n",
              "2  8.000761     7.615615     C\n",
              "3  5.700184     9.004506     B\n",
              "4  7.517111     6.973671     C\n",
              "5  8.359550     7.073906     C"
            ]
          },
          "metadata": {},
          "execution_count": 104
        }
      ]
    },
    {
      "cell_type": "markdown",
      "metadata": {
        "id": "_fdgCJ6ngbL8"
      },
      "source": [
        "Y podemos exportar a excel el resultado de la clusterización"
      ]
    },
    {
      "cell_type": "code",
      "metadata": {
        "id": "JiXrlimREJIN"
      },
      "source": [
        "X_clasificado.to_excel('sample_data/notas_alumnos_clasificado.xlsx')"
      ],
      "execution_count": null,
      "outputs": []
    },
    {
      "cell_type": "markdown",
      "metadata": {
        "id": "TP7099XPgttJ"
      },
      "source": [
        "El modelo, una vez entrenado, permite clasificar nuevos alumnos"
      ]
    },
    {
      "cell_type": "code",
      "metadata": {
        "id": "n6TExTg-h8Ce",
        "colab": {
          "base_uri": "https://localhost:8080/"
        },
        "outputId": "11dca9b0-cdeb-46f5-ea5f-d7d8f31a6df1"
      },
      "source": [
        "  kmeans= KMeans(n_clusters=4, random_state=42)  #Utilizamos el modelo con el número de clusters elegido\n",
        "  kmeans.fit(X)"
      ],
      "execution_count": null,
      "outputs": [
        {
          "output_type": "execute_result",
          "data": {
            "text/plain": [
              "KMeans(algorithm='auto', copy_x=True, init='k-means++', max_iter=300,\n",
              "       n_clusters=4, n_init=10, n_jobs=None, precompute_distances='auto',\n",
              "       random_state=42, tol=0.0001, verbose=0)"
            ]
          },
          "metadata": {},
          "execution_count": 106
        }
      ]
    },
    {
      "cell_type": "markdown",
      "metadata": {
        "id": "8BDFsPJGjfF2"
      },
      "source": [
        "Generamos un nuevo grupo de alumnos"
      ]
    },
    {
      "cell_type": "code",
      "metadata": {
        "id": "rWCyQ4LBg1W4"
      },
      "source": [
        "n_alumnos_nuevos = 10"
      ],
      "execution_count": null,
      "outputs": []
    },
    {
      "cell_type": "code",
      "metadata": {
        "id": "iOoHabE1hDzC"
      },
      "source": [
        "X_nuevo=pd.DataFrame(index=np.arange(1,n_alumnos_nuevos+1))\n",
        "X_nuevo['Lengua']=5+5*(np.random.rand(n_alumnos_nuevos))\n",
        "X_nuevo['Matemáticas']=5+5*(np.random.rand(n_alumnos_nuevos))"
      ],
      "execution_count": null,
      "outputs": []
    },
    {
      "cell_type": "code",
      "metadata": {
        "id": "_reNzKJmhWqM",
        "colab": {
          "base_uri": "https://localhost:8080/",
          "height": 356
        },
        "outputId": "fbae13a1-6520-49f1-9700-0a3453c97c4d"
      },
      "source": [
        "X_nuevo"
      ],
      "execution_count": null,
      "outputs": [
        {
          "output_type": "execute_result",
          "data": {
            "text/html": [
              "<div>\n",
              "<style scoped>\n",
              "    .dataframe tbody tr th:only-of-type {\n",
              "        vertical-align: middle;\n",
              "    }\n",
              "\n",
              "    .dataframe tbody tr th {\n",
              "        vertical-align: top;\n",
              "    }\n",
              "\n",
              "    .dataframe thead th {\n",
              "        text-align: right;\n",
              "    }\n",
              "</style>\n",
              "<table border=\"1\" class=\"dataframe\">\n",
              "  <thead>\n",
              "    <tr style=\"text-align: right;\">\n",
              "      <th></th>\n",
              "      <th>Lengua</th>\n",
              "      <th>Matemáticas</th>\n",
              "      <th>Grupo</th>\n",
              "      <th>Clase</th>\n",
              "    </tr>\n",
              "  </thead>\n",
              "  <tbody>\n",
              "    <tr>\n",
              "      <th>1</th>\n",
              "      <td>5.269445</td>\n",
              "      <td>5.869318</td>\n",
              "      <td>2</td>\n",
              "      <td>C</td>\n",
              "    </tr>\n",
              "    <tr>\n",
              "      <th>2</th>\n",
              "      <td>5.407259</td>\n",
              "      <td>8.498388</td>\n",
              "      <td>3</td>\n",
              "      <td>D</td>\n",
              "    </tr>\n",
              "    <tr>\n",
              "      <th>3</th>\n",
              "      <td>5.222576</td>\n",
              "      <td>7.402508</td>\n",
              "      <td>2</td>\n",
              "      <td>C</td>\n",
              "    </tr>\n",
              "    <tr>\n",
              "      <th>4</th>\n",
              "      <td>7.363299</td>\n",
              "      <td>5.892274</td>\n",
              "      <td>1</td>\n",
              "      <td>B</td>\n",
              "    </tr>\n",
              "    <tr>\n",
              "      <th>5</th>\n",
              "      <td>8.859359</td>\n",
              "      <td>5.140144</td>\n",
              "      <td>1</td>\n",
              "      <td>B</td>\n",
              "    </tr>\n",
              "    <tr>\n",
              "      <th>6</th>\n",
              "      <td>5.281727</td>\n",
              "      <td>6.180545</td>\n",
              "      <td>2</td>\n",
              "      <td>C</td>\n",
              "    </tr>\n",
              "    <tr>\n",
              "      <th>7</th>\n",
              "      <td>8.349038</td>\n",
              "      <td>7.644138</td>\n",
              "      <td>0</td>\n",
              "      <td>A</td>\n",
              "    </tr>\n",
              "    <tr>\n",
              "      <th>8</th>\n",
              "      <td>7.719641</td>\n",
              "      <td>7.661413</td>\n",
              "      <td>0</td>\n",
              "      <td>A</td>\n",
              "    </tr>\n",
              "    <tr>\n",
              "      <th>9</th>\n",
              "      <td>8.262779</td>\n",
              "      <td>7.728581</td>\n",
              "      <td>0</td>\n",
              "      <td>A</td>\n",
              "    </tr>\n",
              "    <tr>\n",
              "      <th>10</th>\n",
              "      <td>5.598805</td>\n",
              "      <td>6.130804</td>\n",
              "      <td>2</td>\n",
              "      <td>C</td>\n",
              "    </tr>\n",
              "  </tbody>\n",
              "</table>\n",
              "</div>"
            ],
            "text/plain": [
              "      Lengua  Matemáticas  Grupo Clase\n",
              "1   5.269445     5.869318      2     C\n",
              "2   5.407259     8.498388      3     D\n",
              "3   5.222576     7.402508      2     C\n",
              "4   7.363299     5.892274      1     B\n",
              "5   8.859359     5.140144      1     B\n",
              "6   5.281727     6.180545      2     C\n",
              "7   8.349038     7.644138      0     A\n",
              "8   7.719641     7.661413      0     A\n",
              "9   8.262779     7.728581      0     A\n",
              "10  5.598805     6.130804      2     C"
            ]
          },
          "metadata": {},
          "execution_count": 113
        }
      ]
    },
    {
      "cell_type": "markdown",
      "metadata": {
        "id": "FKWcSzQ8jntZ"
      },
      "source": [
        "Con model.predict() generamos las nuevas etiquetas de asignación de los alumnos nuevos a los grupos o clusters ya creados"
      ]
    },
    {
      "cell_type": "code",
      "metadata": {
        "id": "WDOjbktkhjJn",
        "colab": {
          "base_uri": "https://localhost:8080/"
        },
        "outputId": "e462dfa2-7194-4c83-e3d0-528521827135"
      },
      "source": [
        "kmeans.predict(X_nuevo)"
      ],
      "execution_count": null,
      "outputs": [
        {
          "output_type": "execute_result",
          "data": {
            "text/plain": [
              "array([2, 3, 2, 1, 1, 2, 0, 0, 0, 2], dtype=int32)"
            ]
          },
          "metadata": {},
          "execution_count": 110
        }
      ]
    },
    {
      "cell_type": "code",
      "metadata": {
        "id": "oJnKfCNjiDd-",
        "colab": {
          "base_uri": "https://localhost:8080/",
          "height": 356
        },
        "outputId": "889ae16a-e20c-4a64-ec3a-3e725d0792f2"
      },
      "source": [
        "X_nuevo['Grupo']=kmeans.predict(X_nuevo)\n",
        "X_nuevo"
      ],
      "execution_count": null,
      "outputs": [
        {
          "output_type": "execute_result",
          "data": {
            "text/html": [
              "<div>\n",
              "<style scoped>\n",
              "    .dataframe tbody tr th:only-of-type {\n",
              "        vertical-align: middle;\n",
              "    }\n",
              "\n",
              "    .dataframe tbody tr th {\n",
              "        vertical-align: top;\n",
              "    }\n",
              "\n",
              "    .dataframe thead th {\n",
              "        text-align: right;\n",
              "    }\n",
              "</style>\n",
              "<table border=\"1\" class=\"dataframe\">\n",
              "  <thead>\n",
              "    <tr style=\"text-align: right;\">\n",
              "      <th></th>\n",
              "      <th>Lengua</th>\n",
              "      <th>Matemáticas</th>\n",
              "      <th>Grupo</th>\n",
              "    </tr>\n",
              "  </thead>\n",
              "  <tbody>\n",
              "    <tr>\n",
              "      <th>1</th>\n",
              "      <td>5.269445</td>\n",
              "      <td>5.869318</td>\n",
              "      <td>2</td>\n",
              "    </tr>\n",
              "    <tr>\n",
              "      <th>2</th>\n",
              "      <td>5.407259</td>\n",
              "      <td>8.498388</td>\n",
              "      <td>3</td>\n",
              "    </tr>\n",
              "    <tr>\n",
              "      <th>3</th>\n",
              "      <td>5.222576</td>\n",
              "      <td>7.402508</td>\n",
              "      <td>2</td>\n",
              "    </tr>\n",
              "    <tr>\n",
              "      <th>4</th>\n",
              "      <td>7.363299</td>\n",
              "      <td>5.892274</td>\n",
              "      <td>1</td>\n",
              "    </tr>\n",
              "    <tr>\n",
              "      <th>5</th>\n",
              "      <td>8.859359</td>\n",
              "      <td>5.140144</td>\n",
              "      <td>1</td>\n",
              "    </tr>\n",
              "    <tr>\n",
              "      <th>6</th>\n",
              "      <td>5.281727</td>\n",
              "      <td>6.180545</td>\n",
              "      <td>2</td>\n",
              "    </tr>\n",
              "    <tr>\n",
              "      <th>7</th>\n",
              "      <td>8.349038</td>\n",
              "      <td>7.644138</td>\n",
              "      <td>0</td>\n",
              "    </tr>\n",
              "    <tr>\n",
              "      <th>8</th>\n",
              "      <td>7.719641</td>\n",
              "      <td>7.661413</td>\n",
              "      <td>0</td>\n",
              "    </tr>\n",
              "    <tr>\n",
              "      <th>9</th>\n",
              "      <td>8.262779</td>\n",
              "      <td>7.728581</td>\n",
              "      <td>0</td>\n",
              "    </tr>\n",
              "    <tr>\n",
              "      <th>10</th>\n",
              "      <td>5.598805</td>\n",
              "      <td>6.130804</td>\n",
              "      <td>2</td>\n",
              "    </tr>\n",
              "  </tbody>\n",
              "</table>\n",
              "</div>"
            ],
            "text/plain": [
              "      Lengua  Matemáticas  Grupo\n",
              "1   5.269445     5.869318      2\n",
              "2   5.407259     8.498388      3\n",
              "3   5.222576     7.402508      2\n",
              "4   7.363299     5.892274      1\n",
              "5   8.859359     5.140144      1\n",
              "6   5.281727     6.180545      2\n",
              "7   8.349038     7.644138      0\n",
              "8   7.719641     7.661413      0\n",
              "9   8.262779     7.728581      0\n",
              "10  5.598805     6.130804      2"
            ]
          },
          "metadata": {},
          "execution_count": 111
        }
      ]
    },
    {
      "cell_type": "markdown",
      "metadata": {
        "id": "BZj7pM8fj3Ch"
      },
      "source": [
        "Asignamos los alumnos por clase en función del grupo o cluster"
      ]
    },
    {
      "cell_type": "code",
      "metadata": {
        "id": "zZRKiAcZin80",
        "colab": {
          "base_uri": "https://localhost:8080/",
          "height": 356
        },
        "outputId": "2184cbfa-fea2-49c6-b7e0-9100fd5e49f9"
      },
      "source": [
        "X_nuevo['Clase']=[dic.get(n, n) for n in X_nuevo['Grupo']]\n",
        "X_nuevo"
      ],
      "execution_count": null,
      "outputs": [
        {
          "output_type": "execute_result",
          "data": {
            "text/html": [
              "<div>\n",
              "<style scoped>\n",
              "    .dataframe tbody tr th:only-of-type {\n",
              "        vertical-align: middle;\n",
              "    }\n",
              "\n",
              "    .dataframe tbody tr th {\n",
              "        vertical-align: top;\n",
              "    }\n",
              "\n",
              "    .dataframe thead th {\n",
              "        text-align: right;\n",
              "    }\n",
              "</style>\n",
              "<table border=\"1\" class=\"dataframe\">\n",
              "  <thead>\n",
              "    <tr style=\"text-align: right;\">\n",
              "      <th></th>\n",
              "      <th>Lengua</th>\n",
              "      <th>Matemáticas</th>\n",
              "      <th>Grupo</th>\n",
              "      <th>Clase</th>\n",
              "    </tr>\n",
              "  </thead>\n",
              "  <tbody>\n",
              "    <tr>\n",
              "      <th>1</th>\n",
              "      <td>5.269445</td>\n",
              "      <td>5.869318</td>\n",
              "      <td>2</td>\n",
              "      <td>C</td>\n",
              "    </tr>\n",
              "    <tr>\n",
              "      <th>2</th>\n",
              "      <td>5.407259</td>\n",
              "      <td>8.498388</td>\n",
              "      <td>3</td>\n",
              "      <td>D</td>\n",
              "    </tr>\n",
              "    <tr>\n",
              "      <th>3</th>\n",
              "      <td>5.222576</td>\n",
              "      <td>7.402508</td>\n",
              "      <td>2</td>\n",
              "      <td>C</td>\n",
              "    </tr>\n",
              "    <tr>\n",
              "      <th>4</th>\n",
              "      <td>7.363299</td>\n",
              "      <td>5.892274</td>\n",
              "      <td>1</td>\n",
              "      <td>B</td>\n",
              "    </tr>\n",
              "    <tr>\n",
              "      <th>5</th>\n",
              "      <td>8.859359</td>\n",
              "      <td>5.140144</td>\n",
              "      <td>1</td>\n",
              "      <td>B</td>\n",
              "    </tr>\n",
              "    <tr>\n",
              "      <th>6</th>\n",
              "      <td>5.281727</td>\n",
              "      <td>6.180545</td>\n",
              "      <td>2</td>\n",
              "      <td>C</td>\n",
              "    </tr>\n",
              "    <tr>\n",
              "      <th>7</th>\n",
              "      <td>8.349038</td>\n",
              "      <td>7.644138</td>\n",
              "      <td>0</td>\n",
              "      <td>A</td>\n",
              "    </tr>\n",
              "    <tr>\n",
              "      <th>8</th>\n",
              "      <td>7.719641</td>\n",
              "      <td>7.661413</td>\n",
              "      <td>0</td>\n",
              "      <td>A</td>\n",
              "    </tr>\n",
              "    <tr>\n",
              "      <th>9</th>\n",
              "      <td>8.262779</td>\n",
              "      <td>7.728581</td>\n",
              "      <td>0</td>\n",
              "      <td>A</td>\n",
              "    </tr>\n",
              "    <tr>\n",
              "      <th>10</th>\n",
              "      <td>5.598805</td>\n",
              "      <td>6.130804</td>\n",
              "      <td>2</td>\n",
              "      <td>C</td>\n",
              "    </tr>\n",
              "  </tbody>\n",
              "</table>\n",
              "</div>"
            ],
            "text/plain": [
              "      Lengua  Matemáticas  Grupo Clase\n",
              "1   5.269445     5.869318      2     C\n",
              "2   5.407259     8.498388      3     D\n",
              "3   5.222576     7.402508      2     C\n",
              "4   7.363299     5.892274      1     B\n",
              "5   8.859359     5.140144      1     B\n",
              "6   5.281727     6.180545      2     C\n",
              "7   8.349038     7.644138      0     A\n",
              "8   7.719641     7.661413      0     A\n",
              "9   8.262779     7.728581      0     A\n",
              "10  5.598805     6.130804      2     C"
            ]
          },
          "metadata": {},
          "execution_count": 112
        }
      ]
    }
  ]
}