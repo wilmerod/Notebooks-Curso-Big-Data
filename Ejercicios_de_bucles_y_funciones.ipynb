{
  "nbformat": 4,
  "nbformat_minor": 0,
  "metadata": {
    "colab": {
      "name": "Ejercicios_de_bucles_y_funciones.ipynb",
      "provenance": [],
      "collapsed_sections": [],
      "include_colab_link": true
    },
    "kernelspec": {
      "name": "python3",
      "display_name": "Python 3"
    },
    "language_info": {
      "name": "python"
    }
  },
  "cells": [
    {
      "cell_type": "markdown",
      "metadata": {
        "id": "view-in-github",
        "colab_type": "text"
      },
      "source": [
        "<a href=\"https://colab.research.google.com/github/wilmerod/Notebooks-Curso-Big-Data/blob/main/Ejercicios_de_bucles_y_funciones.ipynb\" target=\"_parent\"><img src=\"https://colab.research.google.com/assets/colab-badge.svg\" alt=\"Open In Colab\"/></a>"
      ]
    },
    {
      "cell_type": "markdown",
      "metadata": {
        "id": "vtPh0W9YRARa"
      },
      "source": [
        "1. Escriba un programa que pida al usuario un número entero positivo y muestre por pantalla todos los números desde 1 hasta ese número."
      ]
    },
    {
      "cell_type": "code",
      "metadata": {
        "colab": {
          "base_uri": "https://localhost:8080/"
        },
        "id": "X1P6_oyHUsjz",
        "outputId": "d2ba30d7-093d-4951-aea2-8104655d484c"
      },
      "source": [
        "num = int(input (\"Indicar un número entero positivo: \") )\n",
        "for i in range(num):\n",
        "  print(i+1)"
      ],
      "execution_count": 33,
      "outputs": [
        {
          "output_type": "stream",
          "name": "stdout",
          "text": [
            "Indicar un número entero positivo: 10\n",
            "1\n",
            "2\n",
            "3\n",
            "4\n",
            "5\n",
            "6\n",
            "7\n",
            "8\n",
            "9\n",
            "10\n"
          ]
        }
      ]
    },
    {
      "cell_type": "markdown",
      "metadata": {
        "id": "1nfFwNu3S5Pr"
      },
      "source": [
        "2. Escriba un programa que pida al usuario una palabra y luego muestre por pantalla una a una las letras de la palabra introducida empezando por la última."
      ]
    },
    {
      "cell_type": "code",
      "metadata": {
        "colab": {
          "base_uri": "https://localhost:8080/"
        },
        "id": "OqV_9FxYWoLR",
        "outputId": "4f3737ca-d41b-4fc6-f2e2-37be69618cde"
      },
      "source": [
        "palabra = input (\"Indicar una palabra: \") \n",
        "palabraInvertida = palabra[::-1]\n",
        "for i in palabraInvertida:\n",
        "  print(i)"
      ],
      "execution_count": 32,
      "outputs": [
        {
          "output_type": "stream",
          "name": "stdout",
          "text": [
            "Indicar una palabra: Hola\n",
            "a\n",
            "l\n",
            "o\n",
            "H\n"
          ]
        }
      ]
    },
    {
      "cell_type": "markdown",
      "metadata": {
        "id": "2PVsgmVVTzD7"
      },
      "source": [
        "3. Escriba un programa que realice una cuenta atrás desde 10 usando \"while\""
      ]
    },
    {
      "cell_type": "code",
      "metadata": {
        "colab": {
          "base_uri": "https://localhost:8080/"
        },
        "id": "73E4fYw1d7d2",
        "outputId": "786b7a4d-e323-4e45-b284-557a7df0c961"
      },
      "source": [
        "i = 10\n",
        "while i > 0:\n",
        "  print(i)\n",
        "  i-=1"
      ],
      "execution_count": 15,
      "outputs": [
        {
          "output_type": "stream",
          "name": "stdout",
          "text": [
            "10\n",
            "9\n",
            "8\n",
            "7\n",
            "6\n",
            "5\n",
            "4\n",
            "3\n",
            "2\n",
            "1\n"
          ]
        }
      ]
    },
    {
      "cell_type": "markdown",
      "metadata": {
        "id": "5nLjf-yPVBE8"
      },
      "source": [
        "4. Escribir una función que muestre por pantalla el saludo ¡Hola! cada vez que se la invoque."
      ]
    },
    {
      "cell_type": "code",
      "metadata": {
        "colab": {
          "base_uri": "https://localhost:8080/"
        },
        "id": "hWzm8fa1YRWB",
        "outputId": "6563e0ef-e1a5-4d84-ff98-b0df67c072af"
      },
      "source": [
        "def saludo():\n",
        "  \"\"\"\n",
        "  Función que muestra el saludo ¡Hola!\n",
        "  \"\"\"\n",
        "  return \"¡Hola!\"\n",
        "\n",
        "print(saludo())"
      ],
      "execution_count": 8,
      "outputs": [
        {
          "output_type": "stream",
          "name": "stdout",
          "text": [
            "¡Hola!\n"
          ]
        }
      ]
    },
    {
      "cell_type": "markdown",
      "metadata": {
        "id": "lpkaJay0VkO0"
      },
      "source": [
        "5. Escribir una función que solicite el nombre al usuario y muestre por pantalla el saludo ¡Hola +nombre! con el nombre del usuario"
      ]
    },
    {
      "cell_type": "code",
      "metadata": {
        "colab": {
          "base_uri": "https://localhost:8080/"
        },
        "id": "Y5NbPGBuasja",
        "outputId": "6a226e0d-e4a3-489c-fe75-c80d94ac261f"
      },
      "source": [
        "def saludo(nombre):\n",
        "  \"\"\"\n",
        "  Función que muestra el saludo ¡Hola +nombre!\n",
        "  \"\"\"\n",
        "  return \"¡Hola \" + nombre + \"!\"\n",
        "\n",
        "nombre = input (\"Indicar nombre: \") \n",
        "print(saludo(nombre))"
      ],
      "execution_count": 11,
      "outputs": [
        {
          "output_type": "stream",
          "name": "stdout",
          "text": [
            "Indicar nombre: Wilme\n",
            "¡Hola Wilme!\n"
          ]
        }
      ]
    },
    {
      "cell_type": "markdown",
      "metadata": {
        "id": "qexAwuG4W8ak"
      },
      "source": [
        "6. Escriba una función llamada hipotenusa que devuelva el valor de la hipotenusa cuando se la invoque con el valor de los catetos de un triángulo rectángulo\n",
        "\n",
        "NOTA: \n",
        "\n",
        "$h^2 = a^2 + b^2$\n",
        "\n",
        "$h = (a^2 + b^2)^(1/2)$\n"
      ]
    },
    {
      "cell_type": "code",
      "metadata": {
        "id": "r1YNER03ePFW"
      },
      "source": [
        "def hipotenusa(a, b):\n",
        "  return (a**2 + b**2)**(1/2)\n"
      ],
      "execution_count": 22,
      "outputs": []
    },
    {
      "cell_type": "code",
      "metadata": {
        "colab": {
          "base_uri": "https://localhost:8080/"
        },
        "id": "yd0X3vmBehQm",
        "outputId": "523c39a6-c101-44f3-8167-63554e1b39e9"
      },
      "source": [
        "hipotenusa(3,4)"
      ],
      "execution_count": 23,
      "outputs": [
        {
          "output_type": "execute_result",
          "data": {
            "text/plain": [
              "5.0"
            ]
          },
          "metadata": {},
          "execution_count": 23
        }
      ]
    }
  ]
}